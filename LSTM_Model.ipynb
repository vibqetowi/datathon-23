{
 "cells": [
  {
   "cell_type": "code",
   "execution_count": 28,
   "metadata": {},
   "outputs": [],
   "source": [
    "# !pip install numpy pandas pandas_ta matplotlib yfinance keras tensorflow"
   ]
  },
  {
   "cell_type": "code",
   "execution_count": 29,
   "id": "b29811c3",
   "metadata": {},
   "outputs": [
    {
     "name": "stdout",
     "output_type": "stream",
     "text": [
      "Unexpected exception formatting exception. Falling back to standard exception\n"
     ]
    },
    {
     "name": "stderr",
     "output_type": "stream",
     "text": [
      "Traceback (most recent call last):\n",
      "  File \"/opt/anaconda3/envs/ai/lib/python3.12/site-packages/IPython/core/interactiveshell.py\", line 3548, in run_code\n",
      "  File \"/var/folders/wj/gbbtcthx2dl_5rnvb3ks6wvh0000gq/T/ipykernel_5776/1769307206.py\", line 1, in <module>\n",
      "    import numpy as np\n",
      "ModuleNotFoundError: No module named 'numpy'\n",
      "\n",
      "During handling of the above exception, another exception occurred:\n",
      "\n",
      "Traceback (most recent call last):\n",
      "  File \"/opt/anaconda3/envs/ai/lib/python3.12/site-packages/pygments/styles/__init__.py\", line 90, in get_style_by_name\n",
      "ModuleNotFoundError: No module named 'pygments.styles.default'\n",
      "\n",
      "During handling of the above exception, another exception occurred:\n",
      "\n",
      "Traceback (most recent call last):\n",
      "  File \"/opt/anaconda3/envs/ai/lib/python3.12/site-packages/IPython/core/interactiveshell.py\", line 2142, in showtraceback\n",
      "  File \"/opt/anaconda3/envs/ai/lib/python3.12/site-packages/IPython/core/ultratb.py\", line 1435, in structured_traceback\n",
      "  File \"/opt/anaconda3/envs/ai/lib/python3.12/site-packages/IPython/core/ultratb.py\", line 1326, in structured_traceback\n",
      "  File \"/opt/anaconda3/envs/ai/lib/python3.12/site-packages/IPython/core/ultratb.py\", line 1173, in structured_traceback\n",
      "  File \"/opt/anaconda3/envs/ai/lib/python3.12/site-packages/IPython/core/ultratb.py\", line 1063, in format_exception_as_a_whole\n",
      "  File \"/opt/anaconda3/envs/ai/lib/python3.12/site-packages/IPython/core/ultratb.py\", line 1114, in get_records\n",
      "  File \"/opt/anaconda3/envs/ai/lib/python3.12/site-packages/pygments/styles/__init__.py\", line 92, in get_style_by_name\n",
      "pygments.util.ClassNotFound: Could not find style module 'default', though it should be builtin.\n"
     ]
    }
   ],
   "source": [
    "import numpy as np\n",
    "import pandas as pd\n",
    "import pandas_ta as ta\n",
    "import matplotlib.pyplot as plt\n",
    "\n",
    "import yfinance as yf\n",
    "\n",
    "data = yf.download(tickers = 'AAPL', start = '1999-11-01',end = '2016-01-01')\n",
    "\n",
    "#This can show you the table of the data, the number being the amount of days you want to see, starting from oldest\n",
    "data.head(20)"
   ]
  },
  {
   "cell_type": "code",
   "execution_count": 30,
   "id": "68e700e1",
   "metadata": {},
   "outputs": [
    {
     "name": "stdout",
     "output_type": "stream",
     "text": [
      "Unexpected exception formatting exception. Falling back to standard exception\n"
     ]
    },
    {
     "name": "stderr",
     "output_type": "stream",
     "text": [
      "Traceback (most recent call last):\n",
      "  File \"/opt/anaconda3/envs/ai/lib/python3.12/site-packages/IPython/core/interactiveshell.py\", line 3548, in run_code\n",
      "  File \"/var/folders/wj/gbbtcthx2dl_5rnvb3ks6wvh0000gq/T/ipykernel_5776/251546190.py\", line 2, in <module>\n",
      "    data['RSI']=ta.rsi(data.Close, length=15)\n",
      "                ^^\n",
      "NameError: name 'ta' is not defined\n",
      "\n",
      "During handling of the above exception, another exception occurred:\n",
      "\n",
      "Traceback (most recent call last):\n",
      "  File \"/opt/anaconda3/envs/ai/lib/python3.12/site-packages/pygments/styles/__init__.py\", line 90, in get_style_by_name\n",
      "ModuleNotFoundError: No module named 'pygments.styles.default'\n",
      "\n",
      "During handling of the above exception, another exception occurred:\n",
      "\n",
      "Traceback (most recent call last):\n",
      "  File \"/opt/anaconda3/envs/ai/lib/python3.12/site-packages/IPython/core/interactiveshell.py\", line 2142, in showtraceback\n",
      "  File \"/opt/anaconda3/envs/ai/lib/python3.12/site-packages/IPython/core/ultratb.py\", line 1435, in structured_traceback\n",
      "  File \"/opt/anaconda3/envs/ai/lib/python3.12/site-packages/IPython/core/ultratb.py\", line 1326, in structured_traceback\n",
      "  File \"/opt/anaconda3/envs/ai/lib/python3.12/site-packages/IPython/core/ultratb.py\", line 1173, in structured_traceback\n",
      "  File \"/opt/anaconda3/envs/ai/lib/python3.12/site-packages/IPython/core/ultratb.py\", line 1063, in format_exception_as_a_whole\n",
      "  File \"/opt/anaconda3/envs/ai/lib/python3.12/site-packages/IPython/core/ultratb.py\", line 1114, in get_records\n",
      "  File \"/opt/anaconda3/envs/ai/lib/python3.12/site-packages/pygments/styles/__init__.py\", line 92, in get_style_by_name\n",
      "pygments.util.ClassNotFound: Could not find style module 'default', though it should be builtin.\n"
     ]
    }
   ],
   "source": [
    "\n",
    "# These below are the technical indicators that we are using and we can change the length for the amount of days intended of the indicator.\n",
    "data['RSI']=ta.rsi(data.Close, length=15)\n",
    "data['EMAF']=ta.ema(data.Close, length=50)\n",
    "data['EMAM']=ta.ema(data.Close, length=100)\n",
    "data['EMAS']=ta.ema(data.Close, length=200)\n",
    "\n",
    "# Add MACD to the DataFrame\n",
    "macd = ta.macd(data['Close'], fast=12, slow=26, signal=9)\n",
    "data['MACD'] = macd['MACD_12_26_9']\n",
    "data['MACD_Signal'] = macd['MACDs_12_26_9']\n",
    "data['MACD_Hist'] = macd['MACDh_12_26_9']\n",
    "\n",
    "\n",
    "data['Target'] = data['Adj Close']-data.Open\n",
    "data['Target'] = data['Target'].shift(-1)\n",
    "\n",
    "data['TargetClass'] = [1 if data.Target[i]>0 else 0 for i in range(len(data))]\n",
    "\n",
    "data['TargetNextClose'] = data['Adj Close'].shift(-1)\n",
    "\n",
    "data.dropna(inplace=True)\n",
    "data.reset_index(inplace = True)\n",
    "data.drop(['Volume', 'Close', 'Date'], axis=1, inplace=True)"
   ]
  },
  {
   "cell_type": "code",
   "execution_count": 31,
   "id": "a2b0e972",
   "metadata": {},
   "outputs": [
    {
     "name": "stdout",
     "output_type": "stream",
     "text": [
      "Unexpected exception formatting exception. Falling back to standard exception\n"
     ]
    },
    {
     "name": "stderr",
     "output_type": "stream",
     "text": [
      "Traceback (most recent call last):\n",
      "  File \"/opt/anaconda3/envs/ai/lib/python3.12/site-packages/IPython/core/interactiveshell.py\", line 3548, in run_code\n",
      "  File \"/var/folders/wj/gbbtcthx2dl_5rnvb3ks6wvh0000gq/T/ipykernel_5776/2293982348.py\", line 1, in <module>\n",
      "    data_set = data.iloc[:, 0:14]#.values\n",
      "               ^^^^\n",
      "NameError: name 'data' is not defined\n",
      "\n",
      "During handling of the above exception, another exception occurred:\n",
      "\n",
      "Traceback (most recent call last):\n",
      "  File \"/opt/anaconda3/envs/ai/lib/python3.12/site-packages/pygments/styles/__init__.py\", line 90, in get_style_by_name\n",
      "ModuleNotFoundError: No module named 'pygments.styles.default'\n",
      "\n",
      "During handling of the above exception, another exception occurred:\n",
      "\n",
      "Traceback (most recent call last):\n",
      "  File \"/opt/anaconda3/envs/ai/lib/python3.12/site-packages/IPython/core/interactiveshell.py\", line 2142, in showtraceback\n",
      "  File \"/opt/anaconda3/envs/ai/lib/python3.12/site-packages/IPython/core/ultratb.py\", line 1435, in structured_traceback\n",
      "  File \"/opt/anaconda3/envs/ai/lib/python3.12/site-packages/IPython/core/ultratb.py\", line 1326, in structured_traceback\n",
      "  File \"/opt/anaconda3/envs/ai/lib/python3.12/site-packages/IPython/core/ultratb.py\", line 1173, in structured_traceback\n",
      "  File \"/opt/anaconda3/envs/ai/lib/python3.12/site-packages/IPython/core/ultratb.py\", line 1063, in format_exception_as_a_whole\n",
      "  File \"/opt/anaconda3/envs/ai/lib/python3.12/site-packages/IPython/core/ultratb.py\", line 1114, in get_records\n",
      "  File \"/opt/anaconda3/envs/ai/lib/python3.12/site-packages/pygments/styles/__init__.py\", line 92, in get_style_by_name\n",
      "pygments.util.ClassNotFound: Could not find style module 'default', though it should be builtin.\n"
     ]
    }
   ],
   "source": [
    "data_set = data.iloc[:, 0:14]#.values\n",
    "pd.set_option('display.max_columns', None)\n",
    "\n",
    "data_set.head(20)\n",
    "#print(data_set.shape)\n",
    "#print(data.shape)\n",
    "#print(type(data_set))\n",
    "\n",
    "#The table below shows the data that we want to train, essentially showing all the information and use the next day's closing as the targetNextClose for today."
   ]
  },
  {
   "cell_type": "code",
   "execution_count": 32,
   "id": "eb3a2c0c",
   "metadata": {},
   "outputs": [],
   "source": [
    "#Target column Categories\n",
    "#y =[1 if data.Open[i]>data.Close[i] else 0 for i in range(0, len(data))]\n",
    "#yi = [data.Open[i]-data.Close[i] for i in range(0, len(data))]\n",
    "#print(yi)\n",
    "#print(len(yi))"
   ]
  },
  {
   "cell_type": "code",
   "execution_count": 33,
   "id": "b9d38e4c",
   "metadata": {},
   "outputs": [
    {
     "name": "stdout",
     "output_type": "stream",
     "text": [
      "Unexpected exception formatting exception. Falling back to standard exception\n"
     ]
    },
    {
     "name": "stderr",
     "output_type": "stream",
     "text": [
      "Traceback (most recent call last):\n",
      "  File \"/opt/anaconda3/envs/ai/lib/python3.12/site-packages/IPython/core/interactiveshell.py\", line 3548, in run_code\n",
      "  File \"/var/folders/wj/gbbtcthx2dl_5rnvb3ks6wvh0000gq/T/ipykernel_5776/503703636.py\", line 1, in <module>\n",
      "    sc = MinMaxScaler(feature_range=(0,1))\n",
      "         ^^^^^^^^^^^^\n",
      "NameError: name 'MinMaxScaler' is not defined\n",
      "\n",
      "During handling of the above exception, another exception occurred:\n",
      "\n",
      "Traceback (most recent call last):\n",
      "  File \"/opt/anaconda3/envs/ai/lib/python3.12/site-packages/pygments/styles/__init__.py\", line 90, in get_style_by_name\n",
      "ModuleNotFoundError: No module named 'pygments.styles.default'\n",
      "\n",
      "During handling of the above exception, another exception occurred:\n",
      "\n",
      "Traceback (most recent call last):\n",
      "  File \"/opt/anaconda3/envs/ai/lib/python3.12/site-packages/IPython/core/interactiveshell.py\", line 2142, in showtraceback\n",
      "  File \"/opt/anaconda3/envs/ai/lib/python3.12/site-packages/IPython/core/ultratb.py\", line 1435, in structured_traceback\n",
      "  File \"/opt/anaconda3/envs/ai/lib/python3.12/site-packages/IPython/core/ultratb.py\", line 1326, in structured_traceback\n",
      "  File \"/opt/anaconda3/envs/ai/lib/python3.12/site-packages/IPython/core/ultratb.py\", line 1173, in structured_traceback\n",
      "  File \"/opt/anaconda3/envs/ai/lib/python3.12/site-packages/IPython/core/ultratb.py\", line 1063, in format_exception_as_a_whole\n",
      "  File \"/opt/anaconda3/envs/ai/lib/python3.12/site-packages/IPython/core/ultratb.py\", line 1114, in get_records\n",
      "  File \"/opt/anaconda3/envs/ai/lib/python3.12/site-packages/pygments/styles/__init__.py\", line 92, in get_style_by_name\n",
      "pygments.util.ClassNotFound: Could not find style module 'default', though it should be builtin.\n"
     ]
    }
   ],
   "source": [
    "# Function undefined?\n",
    "sc = MinMaxScaler(feature_range=(0,1))\n",
    "data_set_scaled = sc.fit_transform(data_set)\n",
    "print(data_set_scaled)"
   ]
  },
  {
   "cell_type": "code",
   "execution_count": 34,
   "id": "99ca74fd",
   "metadata": {},
   "outputs": [
    {
     "name": "stdout",
     "output_type": "stream",
     "text": [
      "Unexpected exception formatting exception. Falling back to standard exception\n"
     ]
    },
    {
     "name": "stderr",
     "output_type": "stream",
     "text": [
      "Traceback (most recent call last):\n",
      "  File \"/opt/anaconda3/envs/ai/lib/python3.12/site-packages/IPython/core/interactiveshell.py\", line 3548, in run_code\n",
      "  File \"/var/folders/wj/gbbtcthx2dl_5rnvb3ks6wvh0000gq/T/ipykernel_5776/2599708749.py\", line 7, in <module>\n",
      "    print(data_set_scaled.shape[0])\n",
      "          ^^^^^^^^^^^^^^^\n",
      "NameError: name 'data_set_scaled' is not defined\n",
      "\n",
      "During handling of the above exception, another exception occurred:\n",
      "\n",
      "Traceback (most recent call last):\n",
      "  File \"/opt/anaconda3/envs/ai/lib/python3.12/site-packages/pygments/styles/__init__.py\", line 90, in get_style_by_name\n",
      "ModuleNotFoundError: No module named 'pygments.styles.default'\n",
      "\n",
      "During handling of the above exception, another exception occurred:\n",
      "\n",
      "Traceback (most recent call last):\n",
      "  File \"/opt/anaconda3/envs/ai/lib/python3.12/site-packages/IPython/core/interactiveshell.py\", line 2142, in showtraceback\n",
      "  File \"/opt/anaconda3/envs/ai/lib/python3.12/site-packages/IPython/core/ultratb.py\", line 1435, in structured_traceback\n",
      "  File \"/opt/anaconda3/envs/ai/lib/python3.12/site-packages/IPython/core/ultratb.py\", line 1326, in structured_traceback\n",
      "  File \"/opt/anaconda3/envs/ai/lib/python3.12/site-packages/IPython/core/ultratb.py\", line 1173, in structured_traceback\n",
      "  File \"/opt/anaconda3/envs/ai/lib/python3.12/site-packages/IPython/core/ultratb.py\", line 1063, in format_exception_as_a_whole\n",
      "  File \"/opt/anaconda3/envs/ai/lib/python3.12/site-packages/IPython/core/ultratb.py\", line 1114, in get_records\n",
      "  File \"/opt/anaconda3/envs/ai/lib/python3.12/site-packages/pygments/styles/__init__.py\", line 92, in get_style_by_name\n",
      "pygments.util.ClassNotFound: Could not find style module 'default', though it should be builtin.\n"
     ]
    }
   ],
   "source": [
    "# multiple feature from data provided to the model\n",
    "X = []\n",
    "#print(data_set_scaled[0].size)\n",
    "#data_set_scaled=data_set.values\n",
    "# backcandles is the number of days back you want the machine to look at, 30 being 30 days back. Meaning that the last 30 days candles are enough data to predect the next candle\n",
    "backcandles = 30\n",
    "print(data_set_scaled.shape[0])\n",
    "for j in range(8):#data_set_scaled[0].size):#2 columns are target not X\n",
    "    X.append([])\n",
    "    for i in range(backcandles, data_set_scaled.shape[0]):#backcandles+2\n",
    "        X[j].append(data_set_scaled[i-backcandles:i, j])\n",
    "\n",
    "#move axis from 0 to position 2\n",
    "X=np.moveaxis(X, [0], [2])\n",
    "\n",
    "#Erase first elements of y because of backcandles to match X length\n",
    "#del(yi[0:backcandles])\n",
    "#X, yi = np.array(X), np.array(yi)\n",
    "# Choose -1 for last column, classification else -2...\n",
    "X, yi =np.array(X), np.array(data_set_scaled[backcandles:,-1])\n",
    "y=np.reshape(yi,(len(yi),1))\n",
    "#y=sc.fit_transform(yi)\n",
    "#X_train = np.reshape(X_train, (X_train.shape[0], X_train.shape[1], 1))\n",
    "print(X)\n",
    "print(X.shape)\n",
    "print(y)\n",
    "print(y.shape)"
   ]
  },
  {
   "cell_type": "code",
   "execution_count": 22,
   "id": "c01b699a",
   "metadata": {},
   "outputs": [],
   "source": [
    "#also comprehensions for X\n",
    "#X = np.array([data_set_scaled[i-backcandles:i,:4].copy() for i in range(backcandles,len(data_set_scaled))])\n",
    "#print(X)\n",
    "#print(X.shape)"
   ]
  },
  {
   "cell_type": "code",
   "execution_count": 23,
   "id": "a2a87918",
   "metadata": {},
   "outputs": [
    {
     "name": "stdout",
     "output_type": "stream",
     "text": [
      "0\n",
      "Unexpected exception formatting exception. Falling back to standard exception\n"
     ]
    },
    {
     "name": "stderr",
     "output_type": "stream",
     "text": [
      "Traceback (most recent call last):\n",
      "  File \"/opt/anaconda3/envs/ai/lib/python3.12/site-packages/IPython/core/interactiveshell.py\", line 3548, in run_code\n",
      "  File \"/var/folders/wj/gbbtcthx2dl_5rnvb3ks6wvh0000gq/T/ipykernel_5776/909259056.py\", line 5, in <module>\n",
      "    y_train, y_test = y[:splitlimit], y[splitlimit:]\n",
      "                      ^\n",
      "NameError: name 'y' is not defined\n",
      "\n",
      "During handling of the above exception, another exception occurred:\n",
      "\n",
      "Traceback (most recent call last):\n",
      "  File \"/opt/anaconda3/envs/ai/lib/python3.12/site-packages/pygments/styles/__init__.py\", line 90, in get_style_by_name\n",
      "ModuleNotFoundError: No module named 'pygments.styles.default'\n",
      "\n",
      "During handling of the above exception, another exception occurred:\n",
      "\n",
      "Traceback (most recent call last):\n",
      "  File \"/opt/anaconda3/envs/ai/lib/python3.12/site-packages/IPython/core/interactiveshell.py\", line 2142, in showtraceback\n",
      "  File \"/opt/anaconda3/envs/ai/lib/python3.12/site-packages/IPython/core/ultratb.py\", line 1435, in structured_traceback\n",
      "  File \"/opt/anaconda3/envs/ai/lib/python3.12/site-packages/IPython/core/ultratb.py\", line 1326, in structured_traceback\n",
      "  File \"/opt/anaconda3/envs/ai/lib/python3.12/site-packages/IPython/core/ultratb.py\", line 1173, in structured_traceback\n",
      "  File \"/opt/anaconda3/envs/ai/lib/python3.12/site-packages/IPython/core/ultratb.py\", line 1063, in format_exception_as_a_whole\n",
      "  File \"/opt/anaconda3/envs/ai/lib/python3.12/site-packages/IPython/core/ultratb.py\", line 1114, in get_records\n",
      "  File \"/opt/anaconda3/envs/ai/lib/python3.12/site-packages/pygments/styles/__init__.py\", line 92, in get_style_by_name\n",
      "pygments.util.ClassNotFound: Could not find style module 'default', though it should be builtin.\n"
     ]
    }
   ],
   "source": [
    "# split data into train test sets\n",
    "splitlimit = int(len(X)*0.8)\n",
    "print(splitlimit)\n",
    "X_train, X_test = X[:splitlimit], X[splitlimit:]\n",
    "y_train, y_test = y[:splitlimit], y[splitlimit:]\n",
    "print(X_train.shape)\n",
    "print(X_test.shape)\n",
    "print(y_train.shape)\n",
    "print(y_test.shape)\n",
    "print(y_train)"
   ]
  },
  {
   "cell_type": "code",
   "execution_count": 24,
   "id": "9867161a",
   "metadata": {},
   "outputs": [
    {
     "name": "stdout",
     "output_type": "stream",
     "text": [
      "Unexpected exception formatting exception. Falling back to standard exception\n"
     ]
    },
    {
     "name": "stderr",
     "output_type": "stream",
     "text": [
      "Traceback (most recent call last):\n",
      "  File \"/opt/anaconda3/envs/ai/lib/python3.12/site-packages/IPython/core/interactiveshell.py\", line 3548, in run_code\n",
      "  File \"/var/folders/wj/gbbtcthx2dl_5rnvb3ks6wvh0000gq/T/ipykernel_5776/1980270545.py\", line 1, in <module>\n",
      "    from keras.models import Sequential\n",
      "ModuleNotFoundError: No module named 'keras'\n",
      "\n",
      "During handling of the above exception, another exception occurred:\n",
      "\n",
      "Traceback (most recent call last):\n",
      "  File \"/opt/anaconda3/envs/ai/lib/python3.12/site-packages/pygments/styles/__init__.py\", line 90, in get_style_by_name\n",
      "ModuleNotFoundError: No module named 'pygments.styles.default'\n",
      "\n",
      "During handling of the above exception, another exception occurred:\n",
      "\n",
      "Traceback (most recent call last):\n",
      "  File \"/opt/anaconda3/envs/ai/lib/python3.12/site-packages/IPython/core/interactiveshell.py\", line 2142, in showtraceback\n",
      "  File \"/opt/anaconda3/envs/ai/lib/python3.12/site-packages/IPython/core/ultratb.py\", line 1435, in structured_traceback\n",
      "  File \"/opt/anaconda3/envs/ai/lib/python3.12/site-packages/IPython/core/ultratb.py\", line 1326, in structured_traceback\n",
      "  File \"/opt/anaconda3/envs/ai/lib/python3.12/site-packages/IPython/core/ultratb.py\", line 1173, in structured_traceback\n",
      "  File \"/opt/anaconda3/envs/ai/lib/python3.12/site-packages/IPython/core/ultratb.py\", line 1063, in format_exception_as_a_whole\n",
      "  File \"/opt/anaconda3/envs/ai/lib/python3.12/site-packages/IPython/core/ultratb.py\", line 1114, in get_records\n",
      "  File \"/opt/anaconda3/envs/ai/lib/python3.12/site-packages/pygments/styles/__init__.py\", line 92, in get_style_by_name\n",
      "pygments.util.ClassNotFound: Could not find style module 'default', though it should be builtin.\n"
     ]
    }
   ],
   "source": [
    "import keras\n",
    "import tensorflow as tf\n",
    "\n",
    "from keras.models import Sequential\n",
    "from keras.layers import LSTM\n",
    "from keras.layers import Dropout\n",
    "from keras.layers import Dense\n",
    "from keras.layers import TimeDistributed\n",
    "\n",
    "from keras import optimizers\n",
    "from keras.callbacks import History\n",
    "from keras.models import Model\n",
    "from keras.layers import Dense, Dropout, LSTM, Input, Activation, concatenate\n",
    "import numpy as np\n",
    "#tf.random.set_seed(20)\n",
    "np.random.seed(10)\n",
    "\n",
    "lstm_input = Input(shape=(backcandles, 8), name='lstm_input')\n",
    "inputs = LSTM(150, name='first_layer')(lstm_input)\n",
    "inputs = Dense(1, name='dense_layer')(inputs)\n",
    "output = Activation('linear', name='output')(inputs)\n",
    "model = Model(inputs=lstm_input, outputs=output)\n",
    "adam = optimizers.Adam()\n",
    "model.compile(optimizer=adam, loss='mse')\n",
    "model.fit(x=X_train, y=y_train, batch_size=15, epochs=30, shuffle=True, validation_split = 0.1)"
   ]
  },
  {
   "cell_type": "code",
   "execution_count": 25,
   "id": "08324ede",
   "metadata": {},
   "outputs": [
    {
     "name": "stdout",
     "output_type": "stream",
     "text": [
      "Unexpected exception formatting exception. Falling back to standard exception\n"
     ]
    },
    {
     "name": "stderr",
     "output_type": "stream",
     "text": [
      "Traceback (most recent call last):\n",
      "  File \"/opt/anaconda3/envs/ai/lib/python3.12/site-packages/IPython/core/interactiveshell.py\", line 3548, in run_code\n",
      "  File \"/var/folders/wj/gbbtcthx2dl_5rnvb3ks6wvh0000gq/T/ipykernel_5776/606945790.py\", line 1, in <module>\n",
      "    y_pred = model.predict(X_test)\n",
      "             ^^^^^\n",
      "NameError: name 'model' is not defined\n",
      "\n",
      "During handling of the above exception, another exception occurred:\n",
      "\n",
      "Traceback (most recent call last):\n",
      "  File \"/opt/anaconda3/envs/ai/lib/python3.12/site-packages/pygments/styles/__init__.py\", line 90, in get_style_by_name\n",
      "ModuleNotFoundError: No module named 'pygments.styles.default'\n",
      "\n",
      "During handling of the above exception, another exception occurred:\n",
      "\n",
      "Traceback (most recent call last):\n",
      "  File \"/opt/anaconda3/envs/ai/lib/python3.12/site-packages/IPython/core/interactiveshell.py\", line 2142, in showtraceback\n",
      "  File \"/opt/anaconda3/envs/ai/lib/python3.12/site-packages/IPython/core/ultratb.py\", line 1435, in structured_traceback\n",
      "  File \"/opt/anaconda3/envs/ai/lib/python3.12/site-packages/IPython/core/ultratb.py\", line 1326, in structured_traceback\n",
      "  File \"/opt/anaconda3/envs/ai/lib/python3.12/site-packages/IPython/core/ultratb.py\", line 1173, in structured_traceback\n",
      "  File \"/opt/anaconda3/envs/ai/lib/python3.12/site-packages/IPython/core/ultratb.py\", line 1063, in format_exception_as_a_whole\n",
      "  File \"/opt/anaconda3/envs/ai/lib/python3.12/site-packages/IPython/core/ultratb.py\", line 1114, in get_records\n",
      "  File \"/opt/anaconda3/envs/ai/lib/python3.12/site-packages/pygments/styles/__init__.py\", line 92, in get_style_by_name\n",
      "pygments.util.ClassNotFound: Could not find style module 'default', though it should be builtin.\n"
     ]
    }
   ],
   "source": [
    "y_pred = model.predict(X_test)\n",
    "#y_pred=np.where(y_pred > 0.43, 1,0)\n",
    "for i in range(10):\n",
    "    print(y_pred[i], y_test[i])"
   ]
  },
  {
   "cell_type": "code",
   "execution_count": 26,
   "id": "67f5e31a",
   "metadata": {},
   "outputs": [
    {
     "name": "stdout",
     "output_type": "stream",
     "text": [
      "Unexpected exception formatting exception. Falling back to standard exception\n"
     ]
    },
    {
     "name": "stderr",
     "output_type": "stream",
     "text": [
      "Traceback (most recent call last):\n",
      "  File \"/opt/anaconda3/envs/ai/lib/python3.12/site-packages/IPython/core/interactiveshell.py\", line 3548, in run_code\n",
      "  File \"/var/folders/wj/gbbtcthx2dl_5rnvb3ks6wvh0000gq/T/ipykernel_5776/3755409347.py\", line 1, in <module>\n",
      "    plt.figure(figsize=(16,8))\n",
      "    ^^^\n",
      "NameError: name 'plt' is not defined\n",
      "\n",
      "During handling of the above exception, another exception occurred:\n",
      "\n",
      "Traceback (most recent call last):\n",
      "  File \"/opt/anaconda3/envs/ai/lib/python3.12/site-packages/pygments/styles/__init__.py\", line 90, in get_style_by_name\n",
      "ModuleNotFoundError: No module named 'pygments.styles.default'\n",
      "\n",
      "During handling of the above exception, another exception occurred:\n",
      "\n",
      "Traceback (most recent call last):\n",
      "  File \"/opt/anaconda3/envs/ai/lib/python3.12/site-packages/IPython/core/interactiveshell.py\", line 2142, in showtraceback\n",
      "  File \"/opt/anaconda3/envs/ai/lib/python3.12/site-packages/IPython/core/ultratb.py\", line 1435, in structured_traceback\n",
      "  File \"/opt/anaconda3/envs/ai/lib/python3.12/site-packages/IPython/core/ultratb.py\", line 1326, in structured_traceback\n",
      "  File \"/opt/anaconda3/envs/ai/lib/python3.12/site-packages/IPython/core/ultratb.py\", line 1173, in structured_traceback\n",
      "  File \"/opt/anaconda3/envs/ai/lib/python3.12/site-packages/IPython/core/ultratb.py\", line 1063, in format_exception_as_a_whole\n",
      "  File \"/opt/anaconda3/envs/ai/lib/python3.12/site-packages/IPython/core/ultratb.py\", line 1114, in get_records\n",
      "  File \"/opt/anaconda3/envs/ai/lib/python3.12/site-packages/pygments/styles/__init__.py\", line 92, in get_style_by_name\n",
      "pygments.util.ClassNotFound: Could not find style module 'default', though it should be builtin.\n"
     ]
    }
   ],
   "source": [
    "plt.figure(figsize=(16,8))\n",
    "plt.plot(y_test, color = 'black', label = 'Test')\n",
    "plt.plot(y_pred, color = 'green', label = 'pred')\n",
    "plt.legend()\n",
    "plt.show()"
   ]
  },
  {
   "cell_type": "code",
   "execution_count": 27,
   "id": "18555402",
   "metadata": {},
   "outputs": [
    {
     "name": "stdout",
     "output_type": "stream",
     "text": [
      "Unexpected exception formatting exception. Falling back to standard exception\n"
     ]
    },
    {
     "name": "stderr",
     "output_type": "stream",
     "text": [
      "Traceback (most recent call last):\n",
      "  File \"/opt/anaconda3/envs/ai/lib/python3.12/site-packages/IPython/core/interactiveshell.py\", line 3548, in run_code\n",
      "  File \"/var/folders/wj/gbbtcthx2dl_5rnvb3ks6wvh0000gq/T/ipykernel_5776/1657307369.py\", line 1, in <module>\n",
      "    ypred_df = pd.df(y_pred)\n",
      "               ^^\n",
      "NameError: name 'pd' is not defined\n",
      "\n",
      "During handling of the above exception, another exception occurred:\n",
      "\n",
      "Traceback (most recent call last):\n",
      "  File \"/opt/anaconda3/envs/ai/lib/python3.12/site-packages/pygments/styles/__init__.py\", line 90, in get_style_by_name\n",
      "ModuleNotFoundError: No module named 'pygments.styles.default'\n",
      "\n",
      "During handling of the above exception, another exception occurred:\n",
      "\n",
      "Traceback (most recent call last):\n",
      "  File \"/opt/anaconda3/envs/ai/lib/python3.12/site-packages/IPython/core/interactiveshell.py\", line 2142, in showtraceback\n",
      "  File \"/opt/anaconda3/envs/ai/lib/python3.12/site-packages/IPython/core/ultratb.py\", line 1435, in structured_traceback\n",
      "  File \"/opt/anaconda3/envs/ai/lib/python3.12/site-packages/IPython/core/ultratb.py\", line 1326, in structured_traceback\n",
      "  File \"/opt/anaconda3/envs/ai/lib/python3.12/site-packages/IPython/core/ultratb.py\", line 1173, in structured_traceback\n",
      "  File \"/opt/anaconda3/envs/ai/lib/python3.12/site-packages/IPython/core/ultratb.py\", line 1063, in format_exception_as_a_whole\n",
      "  File \"/opt/anaconda3/envs/ai/lib/python3.12/site-packages/IPython/core/ultratb.py\", line 1114, in get_records\n",
      "  File \"/opt/anaconda3/envs/ai/lib/python3.12/site-packages/pygments/styles/__init__.py\", line 92, in get_style_by_name\n",
      "pygments.util.ClassNotFound: Could not find style module 'default', though it should be builtin.\n"
     ]
    }
   ],
   "source": [
    "ypred_df = pd.df(y_pred)\n",
    "ytest_df = pd.df(y_test)\n",
    "\n",
    "y_pred_df.head()"
   ]
  }
 ],
 "metadata": {
  "kernelspec": {
   "display_name": "Python 3 (ipykernel)",
   "language": "python",
   "name": "python3"
  },
  "language_info": {
   "codemirror_mode": {
    "name": "ipython",
    "version": 3
   },
   "file_extension": ".py",
   "mimetype": "text/x-python",
   "name": "python",
   "nbconvert_exporter": "python",
   "pygments_lexer": "ipython3",
   "version": "3.9.6"
  }
 },
 "nbformat": 4,
 "nbformat_minor": 5
}
